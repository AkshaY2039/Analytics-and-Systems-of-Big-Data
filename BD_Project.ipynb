{
  "nbformat": 4,
  "nbformat_minor": 0,
  "metadata": {
    "colab": {
      "name": "BD Project.ipynb",
      "version": "0.3.2",
      "provenance": [],
      "collapsed_sections": []
    },
    "kernelspec": {
      "name": "python3",
      "display_name": "Python 3"
    }
  },
  "cells": [
    {
      "metadata": {
        "id": "ezFVix2q_WZ4",
        "colab_type": "code",
        "colab": {}
      },
      "cell_type": "code",
      "source": [
        "!pip install pyspark"
      ],
      "execution_count": 0,
      "outputs": []
    },
    {
      "metadata": {
        "id": "SRrbmTLU_Zjo",
        "colab_type": "code",
        "colab": {}
      },
      "cell_type": "code",
      "source": [
        "from pyspark.sql import SparkSession, DataFrameReader, SQLContext\n",
        "from pyspark.context import SparkContext\n",
        "sc = SparkContext()\n",
        "spark = SparkSession(sc)\n",
        "sqlContext = SQLContext(sc)"
      ],
      "execution_count": 0,
      "outputs": []
    },
    {
      "metadata": {
        "id": "7W-fWH_vAZLz",
        "colab_type": "code",
        "colab": {}
      },
      "cell_type": "code",
      "source": [
        "df = sqlContext.read.format('csv').options(header='true', inferSchema='true').load('daily_smoking_times.csv')"
      ],
      "execution_count": 0,
      "outputs": []
    },
    {
      "metadata": {
        "id": "PG5o-SOX_yDa",
        "colab_type": "code",
        "colab": {}
      },
      "cell_type": "code",
      "source": [
        "from pyspark.ml import Pipeline\n",
        "from pyspark.ml.classification import DecisionTreeClassifier\n",
        "from pyspark.ml.feature import VectorAssembler, StringIndexer, VectorIndexer, MinMaxScaler\n",
        "from pyspark.ml.tuning import CrossValidator, ParamGridBuilder, TrainValidationSplit\n",
        "from pyspark.ml.evaluation import BinaryClassificationEvaluator\n",
        "from pyspark.ml.classification import RandomForestClassifier\n",
        "from pyspark.ml.classification import LogisticRegression"
      ],
      "execution_count": 0,
      "outputs": []
    },
    {
      "metadata": {
        "id": "AMeWqbo-Aw6v",
        "colab_type": "code",
        "outputId": "b9d59e91-6bbb-43f9-95c4-623c2085dba7",
        "colab": {
          "base_uri": "https://localhost:8080/",
          "height": 56
        }
      },
      "cell_type": "code",
      "source": [
        "display(df)"
      ],
      "execution_count": 0,
      "outputs": [
        {
          "output_type": "display_data",
          "data": {
            "text/plain": [
              "DataFrame[Gender: string, Age: int, Time1: int, Time2: int, Time3: int, Time4: int, Time5: int, Time6: int, Time7: int]"
            ]
          },
          "metadata": {
            "tags": []
          }
        }
      ]
    },
    {
      "metadata": {
        "id": "KL3yknivA3Et",
        "colab_type": "code",
        "outputId": "40bdcf39-0e5e-44f4-c237-5674546307af",
        "colab": {
          "base_uri": "https://localhost:8080/",
          "height": 178
        }
      },
      "cell_type": "code",
      "source": [
        "df.printSchema()"
      ],
      "execution_count": 0,
      "outputs": [
        {
          "output_type": "error",
          "ename": "NameError",
          "evalue": "ignored",
          "traceback": [
            "\u001b[0;31m---------------------------------------------------------------------------\u001b[0m",
            "\u001b[0;31mNameError\u001b[0m                                 Traceback (most recent call last)",
            "\u001b[0;32m<ipython-input-1-09aa658342f2>\u001b[0m in \u001b[0;36m<module>\u001b[0;34m()\u001b[0m\n\u001b[0;32m----> 1\u001b[0;31m \u001b[0mdf\u001b[0m\u001b[0;34m.\u001b[0m\u001b[0mprintSchema\u001b[0m\u001b[0;34m(\u001b[0m\u001b[0;34m)\u001b[0m\u001b[0;34m\u001b[0m\u001b[0;34m\u001b[0m\u001b[0m\n\u001b[0m",
            "\u001b[0;31mNameError\u001b[0m: name 'df' is not defined"
          ]
        }
      ]
    },
    {
      "metadata": {
        "id": "2GXdEYfrGiwF",
        "colab_type": "code",
        "colab": {}
      },
      "cell_type": "code",
      "source": [
        "from pyspark.sql.functions import col"
      ],
      "execution_count": 0,
      "outputs": []
    },
    {
      "metadata": {
        "id": "MzTQm6y3Gp2M",
        "colab_type": "code",
        "colab": {}
      },
      "cell_type": "code",
      "source": [
        "df2 = df.select(\"Gender\",\"Time1\",\"Time2\",\"Time3\",\"Time4\",\"Time5\",\"Time6\",\"Time7\", col(\"Age\").alias(\"label\"))"
      ],
      "execution_count": 0,
      "outputs": []
    },
    {
      "metadata": {
        "id": "dPxhA5T5G8B1",
        "colab_type": "code",
        "outputId": "802cb10b-dc09-4d1f-95a2-4530d7cde777",
        "colab": {
          "base_uri": "https://localhost:8080/",
          "height": 56
        }
      },
      "cell_type": "code",
      "source": [
        "df2"
      ],
      "execution_count": 0,
      "outputs": [
        {
          "output_type": "execute_result",
          "data": {
            "text/plain": [
              "DataFrame[Gender: string, Time1: int, Time2: int, Time3: int, Time4: int, Time5: int, Time6: int, Time7: int, label: int]"
            ]
          },
          "metadata": {
            "tags": []
          },
          "execution_count": 11
        }
      ]
    },
    {
      "metadata": {
        "id": "-3c0zlBMG-_0",
        "colab_type": "code",
        "colab": {}
      },
      "cell_type": "code",
      "source": [
        "splits = df2.randomSplit([0.7, 0.3])"
      ],
      "execution_count": 0,
      "outputs": []
    },
    {
      "metadata": {
        "id": "ZZP9gw_9HJH1",
        "colab_type": "code",
        "colab": {}
      },
      "cell_type": "code",
      "source": [
        "train = splits[0]"
      ],
      "execution_count": 0,
      "outputs": []
    },
    {
      "metadata": {
        "id": "IyTP6xlCHL59",
        "colab_type": "code",
        "colab": {}
      },
      "cell_type": "code",
      "source": [
        "test = splits[1].withColumnRenamed(\"label\", \"trueLabel\")\n",
        "train_rows = train.count()\n",
        "test_rows = test.count()"
      ],
      "execution_count": 0,
      "outputs": []
    },
    {
      "metadata": {
        "id": "h27ToskIHOXa",
        "colab_type": "code",
        "outputId": "c81bed65-3aa5-41f0-d1a9-6560d9daa4e9",
        "colab": {
          "base_uri": "https://localhost:8080/",
          "height": 462
        }
      },
      "cell_type": "code",
      "source": [
        "print(\"Training Rows:\", train_rows, \" Testing Rows:\", test_rows)\n",
        "train.show(5)\n",
        "test.show(5)"
      ],
      "execution_count": 0,
      "outputs": [
        {
          "output_type": "stream",
          "text": [
            "Training Rows: 4221  Testing Rows: 1779\n",
            "+------+-----+-----+-----+-----+-----+-----+-----+-----+\n",
            "|Gender|Time1|Time2|Time3|Time4|Time5|Time6|Time7|label|\n",
            "+------+-----+-----+-----+-----+-----+-----+-----+-----+\n",
            "|     F|    4|    8|   12|   14|   16|   20|    0|   19|\n",
            "|     F|    4|    8|   12|   14|   16|   20|    3|   10|\n",
            "|     F|    4|    8|   12|   14|   16|   21|    0|   41|\n",
            "|     F|    4|    8|   12|   14|   16|   21|    2|   41|\n",
            "|     F|    4|    8|   12|   14|   16|   22|    2|   36|\n",
            "+------+-----+-----+-----+-----+-----+-----+-----+-----+\n",
            "only showing top 5 rows\n",
            "\n",
            "+------+-----+-----+-----+-----+-----+-----+-----+---------+\n",
            "|Gender|Time1|Time2|Time3|Time4|Time5|Time6|Time7|trueLabel|\n",
            "+------+-----+-----+-----+-----+-----+-----+-----+---------+\n",
            "|     F|    4|    8|   12|   14|   16|   20|    3|       37|\n",
            "|     F|    4|    8|   12|   14|   16|   21|    0|       12|\n",
            "|     F|    4|    8|   12|   14|   16|   22|    1|       23|\n",
            "|     F|    4|    8|   12|   14|   16|   23|    2|       40|\n",
            "|     F|    4|    8|   12|   14|   16|   23|    2|       41|\n",
            "+------+-----+-----+-----+-----+-----+-----+-----+---------+\n",
            "only showing top 5 rows\n",
            "\n"
          ],
          "name": "stdout"
        }
      ]
    },
    {
      "metadata": {
        "id": "hU62d8XxHikV",
        "colab_type": "code",
        "outputId": "c355af37-01b9-4423-fdaf-da551307c170",
        "colab": {
          "base_uri": "https://localhost:8080/",
          "height": 230
        }
      },
      "cell_type": "code",
      "source": [
        "test.printSchema()"
      ],
      "execution_count": 0,
      "outputs": [
        {
          "output_type": "stream",
          "text": [
            "root\n",
            " |-- Gender: string (nullable = true)\n",
            " |-- Time1: integer (nullable = true)\n",
            " |-- Time2: integer (nullable = true)\n",
            " |-- Time3: integer (nullable = true)\n",
            " |-- Time4: integer (nullable = true)\n",
            " |-- Time5: integer (nullable = true)\n",
            " |-- Time6: integer (nullable = true)\n",
            " |-- Time7: integer (nullable = true)\n",
            " |-- trueLabel: integer (nullable = true)\n",
            "\n"
          ],
          "name": "stdout"
        }
      ]
    },
    {
      "metadata": {
        "id": "3ObtmwSxHmoV",
        "colab_type": "code",
        "colab": {}
      },
      "cell_type": "code",
      "source": [
        "strIdx = StringIndexer(inputCol = \"label\", outputCol = \"typeAge\")\n",
        "labelIdx = StringIndexer(inputCol = \"label\", outputCol = \"idxLabel\")"
      ],
      "execution_count": 0,
      "outputs": []
    },
    {
      "metadata": {
        "id": "B2TNFFz7Ho_l",
        "colab_type": "code",
        "colab": {}
      },
      "cell_type": "code",
      "source": [
        "catVect = VectorAssembler(inputCols = [\"typeAge\"], outputCol=\"ageFeatures\")\n",
        "catIdx = VectorIndexer(inputCol = catVect.getOutputCol(), outputCol = \"idxAgeFeatures\")\n",
        "numVect = VectorAssembler(inputCols = [\"Gender\",\"Time1\",\"Time2\",\"Time3\",\"Time4\",\"Time5\",\"Time6\",\"Time7\"], outputCol=\"numFeatures\")"
      ],
      "execution_count": 0,
      "outputs": []
    },
    {
      "metadata": {
        "id": "4Vmlwq9WH1El",
        "colab_type": "code",
        "colab": {}
      },
      "cell_type": "code",
      "source": [
        "minMax = MinMaxScaler(inputCol = numVect.getOutputCol(), outputCol=\"normFeatures\")\n",
        "featVect = VectorAssembler(inputCols=[\"idxAgeFeatures\", \"normFeatures\"], outputCol=\"features\")"
      ],
      "execution_count": 0,
      "outputs": []
    },
    {
      "metadata": {
        "id": "BPn0II-RH3sL",
        "colab_type": "code",
        "colab": {}
      },
      "cell_type": "code",
      "source": [
        "cl = []\n",
        "pipeline = []"
      ],
      "execution_count": 0,
      "outputs": []
    },
    {
      "metadata": {
        "id": "YjrUjDLYH6B6",
        "colab_type": "code",
        "colab": {}
      },
      "cell_type": "code",
      "source": [
        "cl.insert(0, DecisionTreeClassifier(labelCol=\"idxLabel\", featuresCol=\"features\"))\n",
        "cl.insert(1, RandomForestClassifier(labelCol=\"idxLabel\", featuresCol=\"features\"))\n",
        "cl.insert(2, LogisticRegression(labelCol=\"idxLabel\", featuresCol=\"features\"))"
      ],
      "execution_count": 0,
      "outputs": []
    },
    {
      "metadata": {
        "id": "JF1kfxXXHsrK",
        "colab_type": "code",
        "outputId": "c230911e-432a-4efc-d577-6f857e11d383",
        "colab": {
          "base_uri": "https://localhost:8080/",
          "height": 36
        }
      },
      "cell_type": "code",
      "source": [
        "for i in range(3):\n",
        "    pipeline.insert(i, Pipeline(stages=[strIdx, labelIdx, catVect, catIdx, numVect, minMax, featVect, cl[i]]))\n",
        "    #piplineModel = Pipeline.fit(train)\n",
        "print(\"Pipeline complete!\")\n"
      ],
      "execution_count": 0,
      "outputs": [
        {
          "output_type": "stream",
          "text": [
            "Pipeline complete!\n"
          ],
          "name": "stdout"
        }
      ]
    },
    {
      "metadata": {
        "id": "koS-B8O5IIY5",
        "colab_type": "code",
        "colab": {}
      },
      "cell_type": "code",
      "source": [
        "model = []\n",
        "paramGrid = (ParamGridBuilder().addGrid(cl[0].impurity, (\"gini\", \"entropy\")).addGrid(cl[0].maxDepth, [5, 10, 20]).addGrid(cl[0].maxBins, [5, 10, 20]).build())\n",
        "cv = CrossValidator(estimator=pipeline[0], evaluator=BinaryClassificationEvaluator(), estimatorParamMaps=paramGrid, numFolds=5)\n",
        "\n",
        "model.insert(0, cv.fit(train))\n"
      ],
      "execution_count": 0,
      "outputs": []
    },
    {
      "metadata": {
        "id": "fiHk791zMCzQ",
        "colab_type": "code",
        "colab": {}
      },
      "cell_type": "code",
      "source": [
        "paramGrid2 = (ParamGridBuilder().addGrid(cl[1].impurity, (\"gini\", \"entropy\")).addGrid(cl[1].maxDepth, [5, 10, 20]).addGrid(cl[1].maxBins, [5, 10, 20]).build())\n",
        "cv2 = CrossValidator(estimator=pipeline[1], evaluator=BinaryClassificationEvaluator(), estimatorParamMaps=paramGrid2, numFolds=5)\n",
        "\n",
        "model.insert(1, cv2.fit(train))"
      ],
      "execution_count": 0,
      "outputs": []
    },
    {
      "metadata": {
        "id": "Q425-a3yMUmo",
        "colab_type": "code",
        "colab": {}
      },
      "cell_type": "code",
      "source": [
        "paramGrid = (ParamGridBuilder().addGrid(cl[2].impurity, (\"gini\", \"entropy\")).addGrid(cl[2].maxDepth, [5, 10, 20]).addGrid(cl[2].maxBins, [5, 10, 20]).build())\n",
        "cv = CrossValidator(estimator=pipeline[2], evaluator=BinaryClassificationEvaluator(), estimatorParamMaps=paramGrid, numFolds=5)\n",
        "\n",
        "model.insert(2, cv3.fit(train))"
      ],
      "execution_count": 0,
      "outputs": []
    },
    {
      "metadata": {
        "id": "zBDP1GTnMfg4",
        "colab_type": "code",
        "colab": {}
      },
      "cell_type": "code",
      "source": [
        "prediction = [] \n",
        "predicted = []\n",
        "for i in range(3):\n",
        "  prediction.insert(i, model[i].transform(test))\n",
        "  predicted.insert(i, prediction[i].select(\"features\", \"prediction\", \"probability\", \"trueLabel\"))\n",
        "  predicted[i].show(30)"
      ],
      "execution_count": 0,
      "outputs": []
    },
    {
      "metadata": {
        "id": "4VohRTWfMke2",
        "colab_type": "code",
        "colab": {}
      },
      "cell_type": "code",
      "source": [
        "#from pyspark.ml.evaluation import BinaryClassificationEvaluator\n",
        "from pyspark.ml.evaluation import MulticlassClassificationEvaluator\n",
        "\n",
        "evaluator = BinaryClassificationEvaluator(\n",
        "    labelCol=\"trueLabel\", rawPredictionCol=\"prediction\")\n",
        "for i in range(3):\n",
        "    #evaluator = MulticlassClassificationEvaluator(\n",
        "    #labelCol=\"trueLabel\", predictionCol=\"prediction\", metricName=\"weightedRecall\")\n",
        "    areUPR = evaluator.evaluate(predicted[i], {evaluator.metricName: \"areaUnderPR\"})\n",
        "    areUROC = evaluator.evaluate(predicted[i], {evaluator.metricName: \"areaUnderROC\"})\n",
        "    print(\"AreaUnderPR = %g \" % (areUPR))\n",
        "    \n",
        "    print(\"AreaUnderROC = %g \" % (areUROC))\n",
        "\n",
        "    tp = float(predicted[i].filter(\"prediction == 1.0 AND truelabel == 1\").count())\n",
        "    fp = float(predicted[i].filter(\"prediction == 1.0 AND truelabel == 0\").count())\n",
        "    tn = float(predicted[i].filter(\"prediction == 0.0 AND truelabel == 0\").count())\n",
        "    fn = float(predicted[i].filter(\"prediction == 0.0 AND truelabel == 1\").count())\n",
        "\n",
        "    precision = tp / (tp + fp)\n",
        "    recall = tp / (tp + fn)\n",
        "    print(\"Precision = %g \" % (precision))\n",
        "    print(\"Recall = %g \" % (recall))\n",
        "\n",
        "    metrics = sqlContext.createDataFrame([\n",
        "    (\"TP\", tp),\n",
        "    (\"FP\", fp),\n",
        "    (\"TN\", tn),\n",
        "    (\"FN\", fn),\n",
        "    (\"Precision\", tp / (tp + fp)),\n",
        "    (\"Recall\", tp / (tp + fn))],[\"metric\", \"value\"])\n",
        "    metrics.show()"
      ],
      "execution_count": 0,
      "outputs": []
    }
  ]
}